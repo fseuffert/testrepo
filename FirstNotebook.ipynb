{
 "cells": [
  {
   "cell_type": "code",
   "execution_count": 1,
   "id": "8ced7cc8-9e1e-42b7-b709-b278242a0075",
   "metadata": {},
   "outputs": [
    {
     "name": "stdout",
     "output_type": "stream",
     "text": [
      "hello world\n"
     ]
    }
   ],
   "source": [
    "print('hello world')"
   ]
  },
  {
   "cell_type": "code",
   "execution_count": 2,
   "id": "c9aedac7-abe0-495b-97cc-f69c9ac1a242",
   "metadata": {},
   "outputs": [
    {
     "name": "stdout",
     "output_type": "stream",
     "text": [
      "2\n"
     ]
    }
   ],
   "source": [
    "x = 1\n",
    "x += 1\n",
    "print(x)"
   ]
  },
  {
   "cell_type": "code",
   "execution_count": 6,
   "id": "852d91be-55e7-4500-8d02-3686a3e86c2c",
   "metadata": {
    "tags": []
   },
   "outputs": [
    {
     "name": "stdout",
     "output_type": "stream",
     "text": [
      "this used to be an empty cell\n"
     ]
    }
   ],
   "source": [
    "x = 'this'\n",
    "y = ' used to be an empty cell'\n",
    "print(x+y)"
   ]
  },
  {
   "cell_type": "markdown",
   "id": "bfa93758-3538-4ce6-ae72-ffd2da05131c",
   "metadata": {},
   "source": [
    "I forgot how to program in Python. I need some review."
   ]
  },
  {
   "cell_type": "code",
   "execution_count": null,
   "id": "235d210d-d66e-4d61-8ccc-0b366874ae83",
   "metadata": {},
   "outputs": [],
   "source": []
  }
 ],
 "metadata": {
  "kernelspec": {
   "display_name": "Python",
   "language": "python",
   "name": "conda-env-python-py"
  },
  "language_info": {
   "codemirror_mode": {
    "name": "ipython",
    "version": 3
   },
   "file_extension": ".py",
   "mimetype": "text/x-python",
   "name": "python",
   "nbconvert_exporter": "python",
   "pygments_lexer": "ipython3",
   "version": "3.7.12"
  }
 },
 "nbformat": 4,
 "nbformat_minor": 5
}
